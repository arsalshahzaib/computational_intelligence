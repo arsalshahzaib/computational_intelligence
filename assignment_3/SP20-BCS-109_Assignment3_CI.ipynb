{
 "cells": [
  {
   "cell_type": "code",
   "execution_count": null,
   "id": "211cf8ad",
   "metadata": {},
   "outputs": [],
   "source": [
    "import pandas as pd\n",
    "from mlxtend.preprocessing import TransactionEncoder\n",
    "from mlxtend.frequent_patterns import apriori, association_rules"
   ]
  },
  {
   "cell_type": "code",
   "execution_count": null,
   "id": "82767af6",
   "metadata": {},
   "outputs": [],
   "source": [
    "data = pd.read_csv('dataset_appori.csv')"
   ]
  },
  {
   "cell_type": "code",
   "execution_count": null,
   "id": "c6797c01",
   "metadata": {},
   "outputs": [],
   "source": [
    "# convert the dataset to a list of transactions\n",
    "transactions = data.values.tolist()"
   ]
  },
  {
   "cell_type": "code",
   "execution_count": null,
   "id": "31cdc27f",
   "metadata": {},
   "outputs": [],
   "source": [
    "# apply one-hot encoding\n",
    "te = TransactionEncoder()\n",
    "te_data = te.fit(transactions).transform(transactions)\n",
    "df = pd.DataFrame(te_data, columns=te.columns_)"
   ]
  },
  {
   "cell_type": "code",
   "execution_count": null,
   "id": "9e4c8a2e",
   "metadata": {},
   "outputs": [],
   "source": [
    "# apply apriori algorithm\n",
    "frequent_itemsets = apriori(df, min_support=0.1, use_colnames=True)"
   ]
  },
  {
   "cell_type": "code",
   "execution_count": null,
   "id": "d71a9610",
   "metadata": {},
   "outputs": [],
   "source": [
    "# finding maximal frequent item sets\n",
    "maximal_frequent_itemsets = frequent_itemsets.copy()\n",
    "maximal_frequent_itemsets['length'] = maximal_frequent_itemsets['itemsets'].apply(lambda x: len(x))\n",
    "maximal_frequent_itemsets = maximal_frequent_itemsets[maximal_frequent_itemsets['length'] == maximal_frequent_itemsets['length'].max()]"
   ]
  },
  {
   "cell_type": "code",
   "execution_count": null,
   "id": "00e51ad8",
   "metadata": {},
   "outputs": [],
   "source": [
    "# for association rules\n",
    "association_rules = association_rules(frequent_itemsets, metric=\"confidence\", min_threshold=0.5)"
   ]
  },
  {
   "cell_type": "code",
   "execution_count": null,
   "id": "275e35f4",
   "metadata": {},
   "outputs": [],
   "source": [
    "# printing the final results\n",
    "print(\"Maximal Frequent Item Sets:\")\n",
    "print(maximal_frequent_itemsets)\n",
    "\n",
    "print(\"\\nAssociation Rules:\")\n",
    "print(association_rules)"
   ]
  }
 ],
 "metadata": {
  "kernelspec": {
   "display_name": "Python 3 (ipykernel)",
   "language": "python",
   "name": "python3"
  },
  "language_info": {
   "codemirror_mode": {
    "name": "ipython",
    "version": 3
   },
   "file_extension": ".py",
   "mimetype": "text/x-python",
   "name": "python",
   "nbconvert_exporter": "python",
   "pygments_lexer": "ipython3",
   "version": "3.9.13"
  }
 },
 "nbformat": 4,
 "nbformat_minor": 5
}
